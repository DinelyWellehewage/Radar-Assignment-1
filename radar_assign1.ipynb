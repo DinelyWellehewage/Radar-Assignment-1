{
  "nbformat": 4,
  "nbformat_minor": 0,
  "metadata": {
    "colab": {
      "name": "radar_assign1.ipynb",
      "provenance": [],
      "authorship_tag": "ABX9TyNaZrEp8zzm9Y5YxWYlxAy+",
      "include_colab_link": true
    },
    "kernelspec": {
      "name": "python3",
      "display_name": "Python 3"
    }
  },
  "cells": [
    {
      "cell_type": "markdown",
      "metadata": {
        "id": "view-in-github",
        "colab_type": "text"
      },
      "source": [
        "<a href=\"https://colab.research.google.com/github/DinelyWellehewage/Radar-Assignment-1/blob/main/radar_assign1.ipynb\" target=\"_parent\"><img src=\"https://colab.research.google.com/assets/colab-badge.svg\" alt=\"Open In Colab\"/></a>"
      ]
    },
    {
      "cell_type": "code",
      "metadata": {
        "id": "G_zoo_P4ggpc"
      },
      "source": [
        "import pandas as pd\r\n"
      ],
      "execution_count": 1,
      "outputs": []
    },
    {
      "cell_type": "code",
      "metadata": {
        "id": "c6LVrVpho3JV"
      },
      "source": [
        "raw_data_1 = 'https://raw.githubusercontent.com/DinelyWellehewage/Radar-Assignment-1/main/raw_data1.csv'\r\n",
        "df1 = pd.read_csv(raw_data_1)\r\n",
        "# Dataset is now stored in a Pandas Dataframe"
      ],
      "execution_count": 3,
      "outputs": []
    }
  ]
}